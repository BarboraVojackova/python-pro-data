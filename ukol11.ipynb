{
 "cells": [
  {
   "attachments": {},
   "cell_type": "markdown",
   "metadata": {},
   "source": [
    "# Úkol č. 11\n",
    "\n",
    "---\n",
    "\n",
    "\n",
    "## Zadání:\n",
    "Stáhni si soubor platy_2021_02.csv s informacemi o platech v softwarové firmě (stejný soubor, jako v předchozím úkolu).\n",
    "\n",
    "Načti si tato data do tabulky a vytvoř histogram. Nastav vhodně hranice skupin histogramu (parametr bins), aby byl graf přehledný a snadno interpretovatelný.\n",
    "\n",
    "---"
   ]
  },
  {
   "cell_type": "code",
   "execution_count": null,
   "metadata": {},
   "outputs": [],
   "source": [
    "import pandas\n"
   ]
  },
  {
   "cell_type": "code",
   "execution_count": null,
   "metadata": {},
   "outputs": [],
   "source": [
    "platy = pandas.read_csv(\"platy_2021_02.csv\")\n",
    "platy"
   ]
  },
  {
   "cell_type": "code",
   "execution_count": null,
   "metadata": {},
   "outputs": [],
   "source": [
    "platy['plat'].plot.hist(bins=15)\n",
    "\n",
    "# histogram s barevným ohraničením sloupců pro větší přehlednost\n",
    "# platy['plat'].plot.hist(bins=15, edgecolor='black')"
   ]
  },
  {
   "attachments": {},
   "cell_type": "markdown",
   "metadata": {},
   "source": [
    "---\n",
    "\n",
    "## Nepovinný bonus 1\n",
    "\n",
    "Vrať se k práci se souborem temperature.csv, který obsahuje informace o průměrné teplotě v různých městech v listopadu 2017.\n",
    "\n",
    "Vytvoř tabulku, která bude obsahovat údaje o teplotě za města Helsinki, Miami Beach a Tokyo.\n",
    "Vytvoř krabicový graf a porovnej rozsah teplot v těchto městech."
   ]
  },
  {
   "cell_type": "code",
   "execution_count": null,
   "metadata": {},
   "outputs": [],
   "source": [
    "teploty = pandas.read_csv(\"temperature.csv\")"
   ]
  },
  {
   "cell_type": "code",
   "execution_count": null,
   "metadata": {},
   "outputs": [],
   "source": [
    "zamestnanci = pandas.concat([praha, plzen, liberec])mesta = ['Helsinki', 'Miami Beach', 'Tokyo']\n",
    "vyber_teplot = teploty[teploty['City'].isin(mesta)]\n",
    "vyber_teplot"
   ]
  },
  {
   "cell_type": "code",
   "execution_count": null,
   "metadata": {},
   "outputs": [],
   "source": [
    "vyber_teplot.boxplot(column='AvgTemperature', by='City')"
   ]
  }
 ],
 "metadata": {
  "kernelspec": {
   "display_name": "Python 3",
   "language": "python",
   "name": "python3"
  },
  "language_info": {
   "codemirror_mode": {
    "name": "ipython",
    "version": 3
   },
   "file_extension": ".py",
   "mimetype": "text/x-python",
   "name": "python",
   "nbconvert_exporter": "python",
   "pygments_lexer": "ipython3",
   "version": "3.9.10"
  },
  "orig_nbformat": 4
 },
 "nbformat": 4,
 "nbformat_minor": 2
}

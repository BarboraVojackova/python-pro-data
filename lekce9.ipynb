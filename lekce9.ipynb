{
 "cells": [
  {
   "cell_type": "code",
   "execution_count": null,
   "metadata": {},
   "outputs": [],
   "source": [
    "import pandas\n",
    "jmena=pandas.read_csv('jmena.csv')\n",
    "jmena"
   ]
  },
  {
   "attachments": {},
   "cell_type": "markdown",
   "metadata": {},
   "source": [
    "Vypiš všechny řádky se jmény, jejichž nositelé mají průměrný věk vyšší než 60."
   ]
  },
  {
   "cell_type": "code",
   "execution_count": null,
   "metadata": {},
   "outputs": [],
   "source": [
    "jmena[jmena[\"věk\"] >60]\n"
   ]
  },
  {
   "attachments": {},
   "cell_type": "markdown",
   "metadata": {},
   "source": [
    "Vypiš pouze jména z těch řádků, kde četnost je mezi 80 000 a 100 000."
   ]
  },
  {
   "cell_type": "code",
   "execution_count": null,
   "metadata": {},
   "outputs": [],
   "source": [
    "jmena[jmena[\"četnost\"].between(80_000,100_000)]"
   ]
  },
  {
   "attachments": {},
   "cell_type": "markdown",
   "metadata": {},
   "source": [
    "Vypiš jména a četnost pro jména se slovanským nebo hebrejským původem. Kolik takových jmen je?"
   ]
  },
  {
   "cell_type": "code",
   "execution_count": null,
   "metadata": {},
   "outputs": [],
   "source": [
    "# jmena[(jmena[\"původ\"]==\"hebrejský\")|(jmena[\"původ\"]==\"slovanský\")]\n",
    "jmena[jmena[\"původ\"].isin([\"hebrejský\",\"slovanský\"])]\n",
    "\n"
   ]
  },
  {
   "attachments": {},
   "cell_type": "markdown",
   "metadata": {},
   "source": [
    "Vypiš všechna jména, která mají svátek první 3 dny v prosinci."
   ]
  },
  {
   "cell_type": "code",
   "execution_count": null,
   "metadata": {},
   "outputs": [],
   "source": [
    "jmena[(jmena[\"svátek\"]==\"1.12\")|(jmena[\"svátek\"]==\"2.12\")|(jmena[\"svátek\"]==\"3.12\")]"
   ]
  },
  {
   "attachments": {},
   "cell_type": "markdown",
   "metadata": {},
   "source": [
    "# 2. cvičení - Práce s chybějícími hodnotami, spojování dat"
   ]
  },
  {
   "attachments": {},
   "cell_type": "markdown",
   "metadata": {},
   "source": [
    "https://kodim.cz/kurzy/python-data-1/python-pro-data-1/agregace-a-spojovani/excs"
   ]
  },
  {
   "attachments": {},
   "cell_type": "markdown",
   "metadata": {},
   "source": [
    "Stáhni si datové sety, se kterými budeme pracovat v tomto cvičení: jmena_vol2.csv, studenti1.csv, studenti2.csv."
   ]
  },
  {
   "attachments": {},
   "cell_type": "markdown",
   "metadata": {},
   "source": [
    "První set už známe z minulé lekce. Druhé dva sety obsahují seznam studentů na nějaké menší IT fakultě. Pozor, tato data nemají žádnou souvislost s výsledky maturity, které jsme procházeli během lekce.\n",
    "\n",
    "Proveď následující úkoly a zodpověz předložené otázky.\n",
    "\n",
    "* Načti dva datové sety studentů do oddělených pandas DataFrame a pomocí funkce concat je spoj do jednoho setu.\n",
    "* Pokud studentovi chybí ročník, znamená to, že již nestuduje. Pokud mu chybí číslo skupiny, znamená to, že jde o dálkového studenta. Kolik studentů v datovém setu již nestuduje a kolik jsou dálkoví studenti?\n",
    "* Vyčisti data od studentů, kteří nestudují nebo studují jen dálkově. Nadále budeme pracovat pouze s prezenčními studenty."
   ]
  },
  {
   "cell_type": "code",
   "execution_count": 25,
   "metadata": {},
   "outputs": [],
   "source": [
    "import pandas\n",
    "\n",
    "jmena = pandas.read_csv(\"jmena_vol2.csv\")\n",
    "studenti1 = pandas.read_csv(\"studenti1.csv\")\n",
    "studenti2 = pandas.read_csv(\"studenti2.csv\")\n"
   ]
  },
  {
   "cell_type": "code",
   "execution_count": 42,
   "metadata": {},
   "outputs": [
    {
     "data": {
      "text/html": [
       "<div>\n",
       "<style scoped>\n",
       "    .dataframe tbody tr th:only-of-type {\n",
       "        vertical-align: middle;\n",
       "    }\n",
       "\n",
       "    .dataframe tbody tr th {\n",
       "        vertical-align: top;\n",
       "    }\n",
       "\n",
       "    .dataframe thead th {\n",
       "        text-align: right;\n",
       "    }\n",
       "</style>\n",
       "<table border=\"1\" class=\"dataframe\">\n",
       "  <thead>\n",
       "    <tr style=\"text-align: right;\">\n",
       "      <th></th>\n",
       "      <th>jméno</th>\n",
       "      <th>příjmení</th>\n",
       "      <th>obor</th>\n",
       "      <th>ročník</th>\n",
       "      <th>kruh</th>\n",
       "      <th>prospěch</th>\n",
       "    </tr>\n",
       "  </thead>\n",
       "  <tbody>\n",
       "    <tr>\n",
       "      <th>0</th>\n",
       "      <td>Ludmila</td>\n",
       "      <td>Šindlerová</td>\n",
       "      <td>informatika a management</td>\n",
       "      <td>4.0</td>\n",
       "      <td>11.0</td>\n",
       "      <td>2.49</td>\n",
       "    </tr>\n",
       "    <tr>\n",
       "      <th>1</th>\n",
       "      <td>Jan</td>\n",
       "      <td>Pekárek</td>\n",
       "      <td>softwarové inženýrství</td>\n",
       "      <td>1.0</td>\n",
       "      <td>7.0</td>\n",
       "      <td>1.05</td>\n",
       "    </tr>\n",
       "    <tr>\n",
       "      <th>2</th>\n",
       "      <td>Milan</td>\n",
       "      <td>Weiss</td>\n",
       "      <td>počítačová grafika</td>\n",
       "      <td>5.0</td>\n",
       "      <td>11.0</td>\n",
       "      <td>2.62</td>\n",
       "    </tr>\n",
       "    <tr>\n",
       "      <th>3</th>\n",
       "      <td>Jiřina</td>\n",
       "      <td>Petrová</td>\n",
       "      <td>správa IT systémů</td>\n",
       "      <td>4.0</td>\n",
       "      <td>1.0</td>\n",
       "      <td>1.15</td>\n",
       "    </tr>\n",
       "    <tr>\n",
       "      <th>4</th>\n",
       "      <td>Josef</td>\n",
       "      <td>Navrátil</td>\n",
       "      <td>číslicová technika</td>\n",
       "      <td>5.0</td>\n",
       "      <td>7.0</td>\n",
       "      <td>2.42</td>\n",
       "    </tr>\n",
       "    <tr>\n",
       "      <th>...</th>\n",
       "      <td>...</td>\n",
       "      <td>...</td>\n",
       "      <td>...</td>\n",
       "      <td>...</td>\n",
       "      <td>...</td>\n",
       "      <td>...</td>\n",
       "    </tr>\n",
       "    <tr>\n",
       "      <th>340</th>\n",
       "      <td>Daniel</td>\n",
       "      <td>Brandstätter</td>\n",
       "      <td>informatika a management</td>\n",
       "      <td>4.0</td>\n",
       "      <td>2.0</td>\n",
       "      <td>2.05</td>\n",
       "    </tr>\n",
       "    <tr>\n",
       "      <th>341</th>\n",
       "      <td>Lukáš</td>\n",
       "      <td>Čech</td>\n",
       "      <td>informatika a management</td>\n",
       "      <td>5.0</td>\n",
       "      <td>NaN</td>\n",
       "      <td>1.59</td>\n",
       "    </tr>\n",
       "    <tr>\n",
       "      <th>342</th>\n",
       "      <td>Dagmar</td>\n",
       "      <td>Košanová</td>\n",
       "      <td>teoretická informatika</td>\n",
       "      <td>5.0</td>\n",
       "      <td>10.0</td>\n",
       "      <td>1.34</td>\n",
       "    </tr>\n",
       "    <tr>\n",
       "      <th>343</th>\n",
       "      <td>Ivana</td>\n",
       "      <td>Macháčková</td>\n",
       "      <td>webové inženýrství</td>\n",
       "      <td>1.0</td>\n",
       "      <td>NaN</td>\n",
       "      <td>2.92</td>\n",
       "    </tr>\n",
       "    <tr>\n",
       "      <th>344</th>\n",
       "      <td>Martina</td>\n",
       "      <td>Turková</td>\n",
       "      <td>softwarové inženýrství</td>\n",
       "      <td>5.0</td>\n",
       "      <td>8.0</td>\n",
       "      <td>1.54</td>\n",
       "    </tr>\n",
       "  </tbody>\n",
       "</table>\n",
       "<p>345 rows × 6 columns</p>\n",
       "</div>"
      ],
      "text/plain": [
       "       jméno      příjmení                      obor  ročník  kruh  prospěch\n",
       "0    Ludmila    Šindlerová  informatika a management     4.0  11.0      2.49\n",
       "1        Jan       Pekárek    softwarové inženýrství     1.0   7.0      1.05\n",
       "2      Milan         Weiss        počítačová grafika     5.0  11.0      2.62\n",
       "3     Jiřina       Petrová         správa IT systémů     4.0   1.0      1.15\n",
       "4      Josef      Navrátil        číslicová technika     5.0   7.0      2.42\n",
       "..       ...           ...                       ...     ...   ...       ...\n",
       "340   Daniel  Brandstätter  informatika a management     4.0   2.0      2.05\n",
       "341    Lukáš          Čech  informatika a management     5.0   NaN      1.59\n",
       "342   Dagmar      Košanová    teoretická informatika     5.0  10.0      1.34\n",
       "343    Ivana    Macháčková        webové inženýrství     1.0   NaN      2.92\n",
       "344  Martina       Turková    softwarové inženýrství     5.0   8.0      1.54\n",
       "\n",
       "[345 rows x 6 columns]"
      ]
     },
     "execution_count": 42,
     "metadata": {},
     "output_type": "execute_result"
    }
   ],
   "source": [
    "# spojení do jednoho datasetu\n",
    "\n",
    "pandas.concat([studenti1, studenti2],ignore_index=True)\n",
    "\n",
    "student_celkem=pandas.concat([studenti1, studenti2],ignore_index=True)\n",
    "student_celkem"
   ]
  },
  {
   "cell_type": "code",
   "execution_count": null,
   "metadata": {},
   "outputs": [],
   "source": [
    "# Kolik studentů v datovém setu již nestuduje a kolik jsou dálkoví studenti?\n",
    "\n",
    "nestuduji=student_celkem[student_celkem[\"ročník\"].isna()]\n",
    "dalkovy=student_celkem[student_celkem[\"kruh\"].isna()]\n",
    "dalkovy\n",
    "nestuduji\n",
    "\n",
    "# pokud bychom to chtěli zjistit dohromady:\n",
    "# student_celkem[(student_celkem[\"ročník\"].isna())|(student_celkem[\"kruh\"].isna())]\n",
    "\n",
    "# nebo takto:\n",
    "# celkem=pandas.concat([nestuduji, dalkovy],ignore_index=True)\n",
    "# celkem\n",
    "\n",
    "# nebo takto: \n",
    "# print(dalkovy, nestuduji)"
   ]
  },
  {
   "cell_type": "code",
   "execution_count": 43,
   "metadata": {},
   "outputs": [
    {
     "data": {
      "text/plain": [
       "27"
      ]
     },
     "execution_count": 43,
     "metadata": {},
     "output_type": "execute_result"
    }
   ],
   "source": [
    "# další možnost, jak zjistit, kdo již nestuduje a kolik jsou dálkoví studenti? - Pouze ukáže počet\n",
    "student_celkem[student_celkem[\"ročník\"].isna()].shape[0]\n",
    "student_celkem[student_celkem[\"kruh\"].isna()].shape[0]\n"
   ]
  },
  {
   "cell_type": "code",
   "execution_count": 45,
   "metadata": {},
   "outputs": [
    {
     "data": {
      "text/html": [
       "<div>\n",
       "<style scoped>\n",
       "    .dataframe tbody tr th:only-of-type {\n",
       "        vertical-align: middle;\n",
       "    }\n",
       "\n",
       "    .dataframe tbody tr th {\n",
       "        vertical-align: top;\n",
       "    }\n",
       "\n",
       "    .dataframe thead th {\n",
       "        text-align: right;\n",
       "    }\n",
       "</style>\n",
       "<table border=\"1\" class=\"dataframe\">\n",
       "  <thead>\n",
       "    <tr style=\"text-align: right;\">\n",
       "      <th></th>\n",
       "      <th>jméno</th>\n",
       "      <th>příjmení</th>\n",
       "      <th>obor</th>\n",
       "      <th>ročník</th>\n",
       "      <th>kruh</th>\n",
       "      <th>prospěch</th>\n",
       "    </tr>\n",
       "  </thead>\n",
       "  <tbody>\n",
       "    <tr>\n",
       "      <th>0</th>\n",
       "      <td>Ludmila</td>\n",
       "      <td>Šindlerová</td>\n",
       "      <td>informatika a management</td>\n",
       "      <td>4.0</td>\n",
       "      <td>11.0</td>\n",
       "      <td>2.49</td>\n",
       "    </tr>\n",
       "    <tr>\n",
       "      <th>1</th>\n",
       "      <td>Jan</td>\n",
       "      <td>Pekárek</td>\n",
       "      <td>softwarové inženýrství</td>\n",
       "      <td>1.0</td>\n",
       "      <td>7.0</td>\n",
       "      <td>1.05</td>\n",
       "    </tr>\n",
       "    <tr>\n",
       "      <th>2</th>\n",
       "      <td>Milan</td>\n",
       "      <td>Weiss</td>\n",
       "      <td>počítačová grafika</td>\n",
       "      <td>5.0</td>\n",
       "      <td>11.0</td>\n",
       "      <td>2.62</td>\n",
       "    </tr>\n",
       "    <tr>\n",
       "      <th>3</th>\n",
       "      <td>Jiřina</td>\n",
       "      <td>Petrová</td>\n",
       "      <td>správa IT systémů</td>\n",
       "      <td>4.0</td>\n",
       "      <td>1.0</td>\n",
       "      <td>1.15</td>\n",
       "    </tr>\n",
       "    <tr>\n",
       "      <th>4</th>\n",
       "      <td>Josef</td>\n",
       "      <td>Navrátil</td>\n",
       "      <td>číslicová technika</td>\n",
       "      <td>5.0</td>\n",
       "      <td>7.0</td>\n",
       "      <td>2.42</td>\n",
       "    </tr>\n",
       "    <tr>\n",
       "      <th>...</th>\n",
       "      <td>...</td>\n",
       "      <td>...</td>\n",
       "      <td>...</td>\n",
       "      <td>...</td>\n",
       "      <td>...</td>\n",
       "      <td>...</td>\n",
       "    </tr>\n",
       "    <tr>\n",
       "      <th>338</th>\n",
       "      <td>Klára</td>\n",
       "      <td>Valentová</td>\n",
       "      <td>správa IT systémů</td>\n",
       "      <td>1.0</td>\n",
       "      <td>11.0</td>\n",
       "      <td>1.10</td>\n",
       "    </tr>\n",
       "    <tr>\n",
       "      <th>339</th>\n",
       "      <td>Pavla</td>\n",
       "      <td>Veverková</td>\n",
       "      <td>počítačová grafika</td>\n",
       "      <td>4.0</td>\n",
       "      <td>6.0</td>\n",
       "      <td>2.98</td>\n",
       "    </tr>\n",
       "    <tr>\n",
       "      <th>340</th>\n",
       "      <td>Daniel</td>\n",
       "      <td>Brandstätter</td>\n",
       "      <td>informatika a management</td>\n",
       "      <td>4.0</td>\n",
       "      <td>2.0</td>\n",
       "      <td>2.05</td>\n",
       "    </tr>\n",
       "    <tr>\n",
       "      <th>342</th>\n",
       "      <td>Dagmar</td>\n",
       "      <td>Košanová</td>\n",
       "      <td>teoretická informatika</td>\n",
       "      <td>5.0</td>\n",
       "      <td>10.0</td>\n",
       "      <td>1.34</td>\n",
       "    </tr>\n",
       "    <tr>\n",
       "      <th>344</th>\n",
       "      <td>Martina</td>\n",
       "      <td>Turková</td>\n",
       "      <td>softwarové inženýrství</td>\n",
       "      <td>5.0</td>\n",
       "      <td>8.0</td>\n",
       "      <td>1.54</td>\n",
       "    </tr>\n",
       "  </tbody>\n",
       "</table>\n",
       "<p>287 rows × 6 columns</p>\n",
       "</div>"
      ],
      "text/plain": [
       "       jméno      příjmení                      obor  ročník  kruh  prospěch\n",
       "0    Ludmila    Šindlerová  informatika a management     4.0  11.0      2.49\n",
       "1        Jan       Pekárek    softwarové inženýrství     1.0   7.0      1.05\n",
       "2      Milan         Weiss        počítačová grafika     5.0  11.0      2.62\n",
       "3     Jiřina       Petrová         správa IT systémů     4.0   1.0      1.15\n",
       "4      Josef      Navrátil        číslicová technika     5.0   7.0      2.42\n",
       "..       ...           ...                       ...     ...   ...       ...\n",
       "338    Klára     Valentová         správa IT systémů     1.0  11.0      1.10\n",
       "339    Pavla     Veverková        počítačová grafika     4.0   6.0      2.98\n",
       "340   Daniel  Brandstätter  informatika a management     4.0   2.0      2.05\n",
       "342   Dagmar      Košanová    teoretická informatika     5.0  10.0      1.34\n",
       "344  Martina       Turková    softwarové inženýrství     5.0   8.0      1.54\n",
       "\n",
       "[287 rows x 6 columns]"
      ]
     },
     "execution_count": 45,
     "metadata": {},
     "output_type": "execute_result"
    }
   ],
   "source": [
    "student_celkem.dropna(subset=[\"ročník\", \"kruh\"])\n",
    "student_celkem.dropna()"
   ]
  }
 ],
 "metadata": {
  "kernelspec": {
   "display_name": "Python 3",
   "language": "python",
   "name": "python3"
  },
  "language_info": {
   "codemirror_mode": {
    "name": "ipython",
    "version": 3
   },
   "file_extension": ".py",
   "mimetype": "text/x-python",
   "name": "python",
   "nbconvert_exporter": "python",
   "pygments_lexer": "ipython3",
   "version": "3.9.10"
  },
  "orig_nbformat": 4
 },
 "nbformat": 4,
 "nbformat_minor": 2
}

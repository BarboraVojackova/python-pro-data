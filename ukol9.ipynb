{
 "cells": [
  {
   "attachments": {},
   "cell_type": "markdown",
   "metadata": {},
   "source": [
    "# Úkol č. 9\n",
    "\n",
    "---\n",
    "\n",
    "\n",
    "## Zadání:\n",
    "Stáhni si soubor temperature.csv, který obsahuje informace o průměrné teplotě v různých městech v listopadu 2017.\n",
    "\n",
    "Vypiš si prvních několik řádků, ať si prohlédneš strukturu tabulky.\n",
    "\n",
    "Dále napiš následující dotazy:\n",
    "\n",
    "* Dotaz na měření, která byla provedena v Praze. Je na datech něco zvláštního Napadá tě, čím to může být? Zde je nápověda.\n",
    "* Dotaz na měření, ve kterých je teplota (sloupec AvgTemperature) vyšší než 80 stupňů.\n",
    "* Dotaz na měření, ve kterých je teplota vyšší než 60 stupňů a současně bylo měření provedeno v regionu (sloupec Region) Evropa (Europe).\n",
    "* Dotaz na extrémní hodnoty, tj. měření, ve kterých je teplota vyšší než 80 stupňů nebo menší než -20 stupňů.\n",
    "\n",
    "---\n"
   ]
  },
  {
   "attachments": {},
   "cell_type": "markdown",
   "metadata": {},
   "source": [
    "<u>Importuji pandas a zobrazuji data</u>"
   ]
  },
  {
   "cell_type": "code",
   "execution_count": null,
   "metadata": {},
   "outputs": [],
   "source": [
    "import pandas\n",
    "teploty=pandas.read_csv('temperature.csv')\n",
    "teploty"
   ]
  },
  {
   "attachments": {},
   "cell_type": "markdown",
   "metadata": {},
   "source": [
    "<u>Provádím dotazy ze zadání</u>"
   ]
  },
  {
   "attachments": {},
   "cell_type": "markdown",
   "metadata": {},
   "source": [
    "1. Dotaz na měření, která byla provedena v Praze"
   ]
  },
  {
   "cell_type": "code",
   "execution_count": null,
   "metadata": {},
   "outputs": [],
   "source": [
    "teploty[teploty[\"City\"]==\"Prague\"]\n",
    "\n",
    "# teploty[teploty[\"City\"]==\"Prague\"].reset_index()\n",
    "\n",
    "# vypadá to, že teploty jsou uvedeny v jiné stupnici než Celsiově (pravděpodobně ve Fahrenheitově)"
   ]
  },
  {
   "attachments": {},
   "cell_type": "markdown",
   "metadata": {},
   "source": [
    "2. Průměrná teplota vyšší než 80 stupňů"
   ]
  },
  {
   "cell_type": "code",
   "execution_count": null,
   "metadata": {},
   "outputs": [],
   "source": [
    "teploty[teploty[\"AvgTemperature\"]>80]\n",
    "\n",
    "#teploty[teploty[\"AvgTemperature\"]>80].reset_index()"
   ]
  },
  {
   "attachments": {},
   "cell_type": "markdown",
   "metadata": {},
   "source": [
    "3. Průměrná teplota vyšší než 60 stupňů a současně bylo měření provedeno v regionu Evropa"
   ]
  },
  {
   "cell_type": "code",
   "execution_count": null,
   "metadata": {},
   "outputs": [],
   "source": [
    "teploty[(teploty[\"AvgTemperature\"]>60)&(teploty[\"Region\"]==\"Europe\")]\n",
    "\n",
    "# s metodou .isin: teploty[(teploty[\"AvgTemperature\"]>60)&(teploty[\"Region\"].isin([\"Europe\"]))]"
   ]
  },
  {
   "attachments": {},
   "cell_type": "markdown",
   "metadata": {},
   "source": [
    "4. Extrémní hodnoty (tj. měření, ve kterých je teplota vyšší než 80 stupňů nebo menší než -20 stupňů)"
   ]
  },
  {
   "cell_type": "code",
   "execution_count": null,
   "metadata": {},
   "outputs": [],
   "source": [
    "teploty[(teploty[\"AvgTemperature\"]<-20)|(teploty[\"AvgTemperature\"]>80)]\n",
    "\n",
    "\n",
    "# nicméně v datech jsou nějaké podivné hodnoty. Pokud se podíváš pouze na teploty nižší než -20 stupňů,tak se ti ukáže asi 50 měst (hlavně v Africe), kde je uvedena teplota -99 stupňů.\n",
    "# kód: teploty[(teploty[\"AvgTemperature\"]<-20)]"
   ]
  },
  {
   "attachments": {},
   "cell_type": "markdown",
   "metadata": {},
   "source": [
    "---\n",
    "\n",
    "# Nepovinný bonus 1\n",
    "\n",
    "---\n",
    "\n",
    "Příklady:\n",
    "\n",
    "* Dotaz na měření, ve kterých je teplota (sloupec AvgTemperatureCelsia) vyšší než 30 stupňů Celsia.\n",
    "* Dotaz na měření, ve kterých je teplota vyšší než 15 stupňů Celsia a současně bylo měření provedeno v regionu (sloupec Region) Evropa (Europe).\n",
    "* Dotaz na extrémní hodnoty, tj. měření, ve kterých je teplota vyšší než 30 stupňů Celsia nebo menší než -10 stupňů. Jsou některé hodnoty podezřelé?\n"
   ]
  },
  {
   "cell_type": "code",
   "execution_count": 104,
   "metadata": {},
   "outputs": [],
   "source": [
    "import pytemperature"
   ]
  },
  {
   "cell_type": "code",
   "execution_count": 105,
   "metadata": {},
   "outputs": [],
   "source": [
    "teploty[\"AvgTemperatureCelsia\"] = pytemperature.f2c(teploty[\"AvgTemperature\"])"
   ]
  },
  {
   "cell_type": "code",
   "execution_count": null,
   "metadata": {},
   "outputs": [],
   "source": [
    "teploty[teploty[\"AvgTemperatureCelsia\"]>30]"
   ]
  },
  {
   "cell_type": "code",
   "execution_count": null,
   "metadata": {},
   "outputs": [],
   "source": [
    "teploty[(teploty[\"AvgTemperatureCelsia\"]>15)&(teploty[\"Region\"].isin([\"Europe\"]))]"
   ]
  },
  {
   "cell_type": "code",
   "execution_count": null,
   "metadata": {},
   "outputs": [],
   "source": [
    "teploty[(teploty[\"AvgTemperatureCelsia\"]>30)|(teploty[\"AvgTemperatureCelsia\"]<-10)]\n",
    "\n",
    "# jak už jsem zmiňovala výše v úkolu, jsou zde uvedena podivná měření zejména v Africe\n",
    "# kód: teploty[(teploty[\"AvgTemperatureCelsia\"]<-10)&(teploty[\"Region\"].isin([\"South/Central America & Carribean\",\"Middle East\",\"Africa\"]))]"
   ]
  },
  {
   "attachments": {},
   "cell_type": "markdown",
   "metadata": {},
   "source": [
    "---\n",
    "\n",
    "# Nepovinný bonus 2\n",
    "\n",
    "---\n",
    "\n",
    "Příklady:\n",
    "\n",
    "* Dotaz na řádky z 13. listopadu 2017 (sloupec Day musí mít hodnotu 13).\n",
    "* Dotaz na řádky z 13. listopadu 2017 ze Spojených států amerických (sloupec Day musí mít hodnotu 13 a sloupec Country hodnotu US). Výsledek dotazu si ulož do nové tabulky a použij ji jako vstup pro následující dotaz.\n",
    "* Pro data z předchozího dotazu napiš dotaz na řádky ve městech (sloupec City) Washington a Philadelphia.\n"
   ]
  },
  {
   "cell_type": "code",
   "execution_count": null,
   "metadata": {},
   "outputs": [],
   "source": [
    "teploty[teploty[\"Day\"]==13]"
   ]
  },
  {
   "cell_type": "code",
   "execution_count": null,
   "metadata": {},
   "outputs": [],
   "source": [
    "teploty[(teploty[\"Day\"]==13)&(teploty[\"Country\"]==\"US\")]"
   ]
  },
  {
   "cell_type": "code",
   "execution_count": null,
   "metadata": {},
   "outputs": [],
   "source": [
    "teploty[(teploty[\"Day\"]==13)&(teploty[\"Country\"]==\"US\")&(teploty[\"City\"].isin([\"Washington\",\"Philadelphia\"]))]"
   ]
  }
 ],
 "metadata": {
  "kernelspec": {
   "display_name": "Python 3",
   "language": "python",
   "name": "python3"
  },
  "language_info": {
   "codemirror_mode": {
    "name": "ipython",
    "version": 3
   },
   "file_extension": ".py",
   "mimetype": "text/x-python",
   "name": "python",
   "nbconvert_exporter": "python",
   "pygments_lexer": "ipython3",
   "version": "3.9.10"
  },
  "orig_nbformat": 4
 },
 "nbformat": 4,
 "nbformat_minor": 2
}

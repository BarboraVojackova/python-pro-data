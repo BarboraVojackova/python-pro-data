{
 "cells": [
  {
   "attachments": {},
   "cell_type": "markdown",
   "metadata": {},
   "source": [
    "# Úkol č. 10\n",
    "\n",
    "---\n",
    "\n",
    "\n",
    "## Zadání 1:\n",
    "Uvažuj, že zpracováváš analýzu pro softwarovou firmu. Firma má kanceláře v Praze, Plzni a Liberci. Seznam zaměstnanců pro jednotlivé kanceláře najdeš v souborech zam_praha.csv, zam_plzeň.csv a zam_liberec.csv.\n",
    "\n",
    "* Načti data o zaměstnancích z CSV souborů do tabulek (DataFrame). Ke každé tabulce přidej nový sloupec mesto, které bude obsahovat informaci o tom, ve kterém městě zaměstnanec pracuje.\n",
    "* Vytvoř novou tabulku zamestnanci a ulož do ní informace o všech zaměstnancích (operace concat).\n",
    "* Ze souboru platy_2021_02.csv načti platy zaměstnanců za únor 2021. Propoj tabulku (operace join) s platy a tabulku se zaměstnanci pomocí sloupce cislo_zamestnance.\n",
    "* Porovnej rozměry tabulek před spojením a po spojení. Pokud nemá některý zaměstnanec plat za únor, znamená to, že v naší firmě již nepracuje.\n",
    "* Spočti průměrný plat zaměstnanců v jednotlivých kancelářích.\n",
    "\n",
    "---\n"
   ]
  },
  {
   "cell_type": "code",
   "execution_count": null,
   "metadata": {},
   "outputs": [],
   "source": [
    "import pandas\n",
    "praha=pandas.read_csv(\"zam_praha.csv\")\n",
    "plzen=pandas.read_csv(\"zam_plzeň.csv\")\n",
    "liberec=pandas.read_csv(\"zam_liberec.csv\")\n"
   ]
  },
  {
   "cell_type": "code",
   "execution_count": null,
   "metadata": {},
   "outputs": [],
   "source": [
    "praha['mesto'] = 'Praha'\n",
    "plzen['mesto'] = 'Plzeň'\n",
    "liberec['mesto'] = 'Liberec'"
   ]
  },
  {
   "cell_type": "code",
   "execution_count": null,
   "metadata": {},
   "outputs": [],
   "source": [
    "zamestnanci = pandas.concat([praha, plzen, liberec])"
   ]
  },
  {
   "cell_type": "code",
   "execution_count": null,
   "metadata": {},
   "outputs": [],
   "source": [
    "platy = pandas.read_csv('platy_2021_02.csv')"
   ]
  },
  {
   "cell_type": "code",
   "execution_count": null,
   "metadata": {},
   "outputs": [],
   "source": [
    "zamestnanci_a_platy = zamestnanci.merge(platy, on='cislo_zamestnance')\n",
    "zamestnanci_a_platy"
   ]
  },
  {
   "cell_type": "code",
   "execution_count": null,
   "metadata": {},
   "outputs": [],
   "source": [
    "print(zamestnanci.shape)\n",
    "print(zamestnanci_a_platy.shape)"
   ]
  },
  {
   "cell_type": "code",
   "execution_count": null,
   "metadata": {},
   "outputs": [],
   "source": [
    "prumer_plat = zamestnanci_a_platy.groupby('mesto')['plat'].mean()\n",
    "prumer_plat"
   ]
  },
  {
   "attachments": {},
   "cell_type": "markdown",
   "metadata": {},
   "source": [
    "---\n",
    "\n",
    "\n",
    "## Zadání 2:\n",
    "Pokračuj ve své práci pro softwarovou firmu. Ze souboru vykazy.csv načti informace o výkazech na projekty pro jednoho vybraného zákazníka.\n",
    "\n",
    "* Načti data ze souboru a ulož je do tabulky.\n",
    "* Proveď agregaci a zjisti celkový počet vykázaných hodin za jednotlivé projekty.\n",
    "\n",
    "---"
   ]
  },
  {
   "cell_type": "code",
   "execution_count": 24,
   "metadata": {},
   "outputs": [],
   "source": [
    "vykazy = pandas.read_csv(\"vykazy.csv\")"
   ]
  },
  {
   "cell_type": "code",
   "execution_count": null,
   "metadata": {},
   "outputs": [],
   "source": [
    "celkove_hodiny = vykazy.groupby('project')['hours'].sum()\n",
    "celkove_hodiny"
   ]
  }
 ],
 "metadata": {
  "kernelspec": {
   "display_name": "Python 3",
   "language": "python",
   "name": "python3"
  },
  "language_info": {
   "codemirror_mode": {
    "name": "ipython",
    "version": 3
   },
   "file_extension": ".py",
   "mimetype": "text/x-python",
   "name": "python",
   "nbconvert_exporter": "python",
   "pygments_lexer": "ipython3",
   "version": "3.9.10"
  },
  "orig_nbformat": 4
 },
 "nbformat": 4,
 "nbformat_minor": 2
}
